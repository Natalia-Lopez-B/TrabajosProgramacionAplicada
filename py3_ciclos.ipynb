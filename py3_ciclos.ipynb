{
  "nbformat": 4,
  "nbformat_minor": 0,
  "metadata": {
    "colab": {
      "name": "py3-ciclos",
      "provenance": [],
      "authorship_tag": "ABX9TyMm+8/8NNVh8GcLVoAYOPSg",
      "include_colab_link": true
    },
    "kernelspec": {
      "name": "python3",
      "display_name": "Python 3"
    },
    "language_info": {
      "name": "python"
    }
  },
  "cells": [
    {
      "cell_type": "markdown",
      "metadata": {
        "id": "view-in-github",
        "colab_type": "text"
      },
      "source": [
        "<a href=\"https://colab.research.google.com/github/Natalia-Lopez-B/TrabajosProgramacionAplicada/blob/main/py3_ciclos.ipynb\" target=\"_parent\"><img src=\"https://colab.research.google.com/assets/colab-badge.svg\" alt=\"Open In Colab\"/></a>"
      ]
    },
    {
      "cell_type": "code",
      "metadata": {
        "id": "Km4SdvVkKAuN"
      },
      "source": [
        "def sumatoria(A,B,C):\n",
        "  \n",
        "  n = len(A)\n",
        "  acumulador=0\n",
        "  for i in range(n):\n",
        "    d = A[i]*B[i]\n",
        "    e = d+C[i]\n",
        "    acumulador = acumulador + e\n",
        "  resultado= acumulador + n**2 \n",
        "  return resultado\n"
      ],
      "execution_count": 2,
      "outputs": []
    },
    {
      "cell_type": "code",
      "metadata": {
        "colab": {
          "base_uri": "https://localhost:8080/"
        },
        "id": "YjzMHRb1Nsxt",
        "outputId": "ec93b54d-f1ab-4126-8beb-781e4768f0e0"
      },
      "source": [
        "A=[3,5,7,9]\n",
        "B=[1,4,6,8]\n",
        "C=[2,0,5,4]\n",
        "sumatoria(A,B,C)\n"
      ],
      "execution_count": 3,
      "outputs": [
        {
          "output_type": "execute_result",
          "data": {
            "text/plain": [
              "164"
            ]
          },
          "metadata": {},
          "execution_count": 3
        }
      ]
    },
    {
      "cell_type": "code",
      "metadata": {
        "colab": {
          "base_uri": "https://localhost:8080/"
        },
        "id": "HHUSae8eOHQH",
        "outputId": "e51c616d-0f51-4c13-d9b8-b587b76122b4"
      },
      "source": [
        "((3*1)+2 + (5*4)+0 + (7*6)+5 + (9*8)+4)+4**2"
      ],
      "execution_count": 5,
      "outputs": [
        {
          "output_type": "execute_result",
          "data": {
            "text/plain": [
              "164"
            ]
          },
          "metadata": {},
          "execution_count": 5
        }
      ]
    },
    {
      "cell_type": "code",
      "metadata": {
        "id": "V1XLqQxyP5Z8"
      },
      "source": [
        "def llena_lista(A,B):\n",
        "  \n",
        "  n=len(A)//2\n",
        "  C=[]\n",
        "  for i in range(n):\n",
        "    d = (A[i+1])**2\n",
        "    e = d*B[2*i]\n",
        "    f = e+B[n+i]\n",
        "    C.append(f)\n",
        "  return C\n"
      ],
      "execution_count": 7,
      "outputs": []
    },
    {
      "cell_type": "code",
      "metadata": {
        "colab": {
          "base_uri": "https://localhost:8080/"
        },
        "id": "HxH_ifhhXKqG",
        "outputId": "4bd88f6e-0e26-4b4c-8f9f-77b2dddb3b9f"
      },
      "source": [
        "A=[2,4,6,8]\n",
        "B=[3,5,7,9]\n",
        "llena_lista(A,B)"
      ],
      "execution_count": 8,
      "outputs": [
        {
          "output_type": "execute_result",
          "data": {
            "text/plain": [
              "[55, 261]"
            ]
          },
          "metadata": {},
          "execution_count": 8
        }
      ]
    },
    {
      "cell_type": "code",
      "metadata": {
        "id": "uEtMk_doXzkO"
      },
      "source": [
        ""
      ],
      "execution_count": null,
      "outputs": []
    }
  ]
}