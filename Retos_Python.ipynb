{
  "nbformat": 4,
  "nbformat_minor": 0,
  "metadata": {
    "colab": {
      "name": "Retos-Python",
      "provenance": [],
      "authorship_tag": "ABX9TyMWjXjP0rxla1y37vFsUa9p",
      "include_colab_link": true
    },
    "kernelspec": {
      "name": "python3",
      "display_name": "Python 3"
    },
    "language_info": {
      "name": "python"
    }
  },
  "cells": [
    {
      "cell_type": "markdown",
      "metadata": {
        "id": "view-in-github",
        "colab_type": "text"
      },
      "source": [
        "<a href=\"https://colab.research.google.com/github/Natalia-Lopez-B/TrabajosProgramacionAplicada/blob/main/Retos_Python.ipynb\" target=\"_parent\"><img src=\"https://colab.research.google.com/assets/colab-badge.svg\" alt=\"Open In Colab\"/></a>"
      ]
    },
    {
      "cell_type": "code",
      "execution_count": null,
      "metadata": {
        "id": "ZIco_yNlVeB_"
      },
      "outputs": [],
      "source": [
        "#Reto 6 \n",
        "\n"
      ]
    },
    {
      "cell_type": "code",
      "source": [
        "#Reto 8\n",
        "\n"
      ],
      "metadata": {
        "id": "M-C6u5ueNVhK"
      },
      "execution_count": null,
      "outputs": []
    },
    {
      "cell_type": "code",
      "source": [
        "#Reto 9\n",
        "\n"
      ],
      "metadata": {
        "id": "PwvToGELNV6-"
      },
      "execution_count": null,
      "outputs": []
    },
    {
      "cell_type": "code",
      "source": [
        "#Reto 13\n",
        "\n"
      ],
      "metadata": {
        "id": "xBATs9CwNWJC"
      },
      "execution_count": null,
      "outputs": []
    },
    {
      "cell_type": "code",
      "source": [
        "#Reto 17 \n",
        "\n"
      ],
      "metadata": {
        "id": "_L_5GC1gNWWE"
      },
      "execution_count": null,
      "outputs": []
    },
    {
      "cell_type": "code",
      "source": [
        "#Reto 27 \n",
        "\n"
      ],
      "metadata": {
        "id": "H1jmk4xBNWyo"
      },
      "execution_count": null,
      "outputs": []
    }
  ]
}