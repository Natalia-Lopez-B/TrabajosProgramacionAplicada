{
  "nbformat": 4,
  "nbformat_minor": 0,
  "metadata": {
    "colab": {
      "name": "Retos-Python",
      "provenance": [],
      "collapsed_sections": [],
      "authorship_tag": "ABX9TyPth+qoCYamZ8Q2iOL4I6LR",
      "include_colab_link": true
    },
    "kernelspec": {
      "name": "python3",
      "display_name": "Python 3"
    },
    "language_info": {
      "name": "python"
    }
  },
  "cells": [
    {
      "cell_type": "markdown",
      "metadata": {
        "id": "view-in-github",
        "colab_type": "text"
      },
      "source": [
        "<a href=\"https://colab.research.google.com/github/Natalia-Lopez-B/TrabajosProgramacionAplicada/blob/main/Retos_Python.ipynb\" target=\"_parent\"><img src=\"https://colab.research.google.com/assets/colab-badge.svg\" alt=\"Open In Colab\"/></a>"
      ]
    },
    {
      "cell_type": "code",
      "execution_count": null,
      "metadata": {
        "id": "ZIco_yNlVeB_"
      },
      "outputs": [],
      "source": [
        "#Reto 8 \n",
        "#No se vio la solución \n",
        "\n",
        "print([2*i+10 for i in range(6)])\n"
      ]
    },
    {
      "cell_type": "code",
      "source": [
        "#Reto 6\n",
        "#No se vio la solución\n",
        "\n",
        "import random \n",
        "\n",
        "x=random.randint(0, 120)\n",
        "\n",
        "print('El numero generado fue:', x )\n",
        "\n",
        "if 10 <= x <= 50:\n",
        "  print(x, 'Esta en un intervalo de 10 a 50') \n",
        "\n",
        "elif x < 10:\n",
        "  print(x,'Es menor a 10')\n",
        "\n",
        "elif 50 < x <= 100:\n",
        "  print(x, 'Esta en un intervalo entre 50 a 100')\n",
        "\n",
        "else: \n",
        "  print(x, 'Es mayor a 100')\n"
      ],
      "metadata": {
        "id": "M-C6u5ueNVhK"
      },
      "execution_count": null,
      "outputs": []
    },
    {
      "cell_type": "code",
      "source": [
        "#Reto 9\n",
        "#No se vio la solución\n",
        "\n",
        "inicio= 0\n",
        "final= 50\n",
        "variacion= 5\n",
        "suma=0\n",
        "\n",
        "for i in range(inicio,final,variacion):\n",
        "  suma= suma + i\n",
        "  print(i)\n",
        "\n",
        "print('El resultado es: ', suma)\n",
        "\n",
        "\n"
      ],
      "metadata": {
        "id": "PwvToGELNV6-"
      },
      "execution_count": null,
      "outputs": []
    },
    {
      "cell_type": "code",
      "source": [
        "#Reto 13\n",
        "# No se vio la solución\n",
        "\n",
        "print('Ingrese el primer numero: ')\n",
        "x= int(input())\n",
        "\n",
        "print('Ingrese el segundo numero: ')\n",
        "y= int(input())\n",
        "\n",
        "media=(x+y)/2\n",
        "\n",
        "print('La media de los valores ingresados es: ', media)\n"
      ],
      "metadata": {
        "id": "xBATs9CwNWJC"
      },
      "execution_count": null,
      "outputs": []
    },
    {
      "cell_type": "code",
      "source": [
        "#Reto 17 \n",
        "#No se vio la solución\n",
        "\n",
        "import random \n",
        "\n",
        "x= random.randint(1,100)\n",
        "\n",
        "print('Ingrese el numero que cree es la respuesta: ')\n",
        "num= int(input())\n",
        "\n",
        "while num!= x:\n",
        "\n",
        "  if num > x:\n",
        "    print('El numero es menor, siga intentando: ')\n",
        "    num= int(input())\n",
        "  \n",
        "  elif num < x:\n",
        "    print('El numero es mayor, siga intentando: ')\n",
        "    num= int(input())\n",
        "  \n",
        "  if num == x:\n",
        "    print('¡ACERTASTE!, el numero era' , x)\n",
        "\n"
      ],
      "metadata": {
        "id": "_L_5GC1gNWWE"
      },
      "execution_count": null,
      "outputs": []
    },
    {
      "cell_type": "code",
      "source": [
        "#Reto 27 \n",
        "#Se vio la solución \n",
        "\n",
        "import random \n",
        "\n",
        "L=random.sample(range(100),10)\n",
        "\n",
        "print(L)\n",
        "L.sort()\n",
        "\n",
        "print(L)\n",
        "\n",
        "print('El numero mayor de la lista es: ', L[9])\n",
        "print('El numero menor de la lista es: ', L[0])\n"
      ],
      "metadata": {
        "id": "H1jmk4xBNWyo"
      },
      "execution_count": null,
      "outputs": []
    },
    {
      "cell_type": "code",
      "source": [
        "#Reto 10\n",
        "#Se vio la solución\n",
        "\n",
        "x=1\n",
        "L=[1]\n",
        "\n",
        "for i in range(1,64):\n",
        "  x=x*2\n",
        "  L.append(x)\n",
        "print('La respuesta es: ', str(sum(L)))\n",
        "  "
      ],
      "metadata": {
        "id": "feVJ-tQBx02I"
      },
      "execution_count": null,
      "outputs": []
    },
    {
      "cell_type": "code",
      "source": [
        "5#Reto 15 \n",
        "#No se vio la solución\n",
        "\n",
        "num=[]\n",
        "x=0\n",
        "\n",
        "while (x < 1):\n",
        "  print('Ingrese la cantidad de numeros: ')\n",
        "  x=int(input())\n",
        "\n",
        "for i in range(x):\n",
        "  print('Ingrese un numero: ')\n",
        "  y=int(input())\n",
        "  num.append(y)\n",
        "\n",
        "print('La media de los numeros es: ', sum(num)/x)\n"
      ],
      "metadata": {
        "id": "EYA_po0ix2hw"
      },
      "execution_count": null,
      "outputs": []
    },
    {
      "cell_type": "code",
      "source": [
        "#Reto 20\n",
        "#Se vio la solución \n",
        "\n",
        "def bisiesto(x):\n",
        "\n",
        "  if x%4==0 and (not(x%100==0) or x%400==0 ):\n",
        "  \n",
        "    t='Es bisiesto'\n",
        "    \n",
        "  else:\n",
        "  \n",
        "    t='No es bisiesto'\n",
        "\n",
        "  return t\n",
        "  \n",
        "print('Ingrese un año entre 1600 y 2400: ')\n",
        "x=int(input())\n",
        "\n",
        "print(x, bisiesto(x))\n"
      ],
      "metadata": {
        "id": "vxW2Hnpix5-k",
        "colab": {
          "base_uri": "https://localhost:8080/"
        },
        "outputId": "f4bdd353-de78-4c0d-82b6-c118b2dd6462"
      },
      "execution_count": 58,
      "outputs": [
        {
          "output_type": "stream",
          "name": "stdout",
          "text": [
            "Ingrese un año entre 1600 y 2400: \n",
            "2000\n",
            "2000 Es bisiesto\n"
          ]
        }
      ]
    },
    {
      "cell_type": "code",
      "source": [
        "#Reto 26\n",
        "#Se vio la solución\n",
        "\n",
        "import random\n",
        "\n",
        "x= random.randint(1000000, 2000001)\n",
        "print (x)\n",
        "\n",
        "x=str(x)\n",
        "par=0\n",
        "\n",
        "for i in x:\n",
        "  if int(i)%2==0:\n",
        "    par+=1\n",
        "\n",
        "print('Hay', par , 'cifra/s par/es en este', x ,'numero')\n",
        "print('Hay', 7-par , 'cifra/s impar/es en este', x ,'numero')\n"
      ],
      "metadata": {
        "id": "092Eohq7x9-6"
      },
      "execution_count": null,
      "outputs": []
    }
  ]
}