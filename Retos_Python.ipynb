{
  "nbformat": 4,
  "nbformat_minor": 0,
  "metadata": {
    "colab": {
      "name": "Retos-Python",
      "provenance": [],
      "authorship_tag": "ABX9TyPWrcb+xi7XH0dRNqMeWELv",
      "include_colab_link": true
    },
    "kernelspec": {
      "name": "python3",
      "display_name": "Python 3"
    },
    "language_info": {
      "name": "python"
    }
  },
  "cells": [
    {
      "cell_type": "markdown",
      "metadata": {
        "id": "view-in-github",
        "colab_type": "text"
      },
      "source": [
        "<a href=\"https://colab.research.google.com/github/Natalia-Lopez-B/TrabajosProgramacionAplicada/blob/main/Retos_Python.ipynb\" target=\"_parent\"><img src=\"https://colab.research.google.com/assets/colab-badge.svg\" alt=\"Open In Colab\"/></a>"
      ]
    },
    {
      "cell_type": "code",
      "execution_count": null,
      "metadata": {
        "id": "ZIco_yNlVeB_"
      },
      "outputs": [],
      "source": [
        "#Reto 8 \n",
        "#No se vio la solución \n",
        "\n",
        "print([2*i+10 for i in range(6)])\n"
      ]
    },
    {
      "cell_type": "code",
      "source": [
        "#Reto 6\n",
        "#No se vio la solución\n",
        "\n",
        "import random \n",
        "\n",
        "x=random.randint(0, 120)\n",
        "\n",
        "print('El numero generado fue:', x )\n",
        "\n",
        "if 10 <= x <= 50:\n",
        "  print(x, 'Esta en un intervalo de 10 a 50') \n",
        "\n",
        "elif x < 10:\n",
        "  print(x,'Es menor a 10')\n",
        "\n",
        "elif 50 < x <= 100:\n",
        "  print(x, 'Esta en un intervalo entre 50 a 100')\n",
        "\n",
        "else: \n",
        "  print(x, 'Es mayor a 100')\n"
      ],
      "metadata": {
        "id": "M-C6u5ueNVhK"
      },
      "execution_count": null,
      "outputs": []
    },
    {
      "cell_type": "code",
      "source": [
        "#Reto 9\n",
        "#No se vio la solución\n",
        "\n",
        "inicio= 0\n",
        "final= 50\n",
        "variacion= 5\n",
        "suma=0\n",
        "\n",
        "for i in range(inicio,final,variacion):\n",
        "  suma= suma + i\n",
        "  print(i)\n",
        "\n",
        "print('El resultado es: ', suma)\n",
        "\n",
        "\n"
      ],
      "metadata": {
        "id": "PwvToGELNV6-"
      },
      "execution_count": null,
      "outputs": []
    },
    {
      "cell_type": "code",
      "source": [
        "#Reto 13\n",
        "# No se vio la solución\n",
        "\n",
        "print('Ingrese el primer numero: ')\n",
        "x= int(input())\n",
        "\n",
        "print('Ingrese el segundo numero: ')\n",
        "y= int(input())\n",
        "\n",
        "media=(x+y)/2\n",
        "\n",
        "print('La media de los valores ingresados es: ', media)\n"
      ],
      "metadata": {
        "id": "xBATs9CwNWJC"
      },
      "execution_count": null,
      "outputs": []
    },
    {
      "cell_type": "code",
      "source": [
        "#Reto 17 \n",
        "\n"
      ],
      "metadata": {
        "id": "_L_5GC1gNWWE"
      },
      "execution_count": null,
      "outputs": []
    },
    {
      "cell_type": "code",
      "source": [
        "#Reto 27 \n",
        "\n"
      ],
      "metadata": {
        "id": "H1jmk4xBNWyo"
      },
      "execution_count": null,
      "outputs": []
    }
  ]
}